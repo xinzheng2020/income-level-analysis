{
 "cells": [
  {
   "cell_type": "markdown",
   "metadata": {},
   "source": [
    "# <h1><center> Demystifying Income Disparities: A Comprehensive Analysis of Factors Shaping Income Levels and Inequality </center></h1>\n",
    "\n",
    "<div align=\"center\"><h1> Demystifying Income Disparities: A Comprehensive Analysis of Factors Shaping Income Levels and Inequality </h1></div>\n",
    "\n",
    "<div align=\"center\"><b> Data605 Final project by Xinzheng Tang </b></div>"
   ]
  },
  {
   "cell_type": "markdown",
   "metadata": {},
   "source": [
    "Age, education level, occupation, and work hours per week, which can significantly impact the likelihood of earning more than $50K per year. Understanding these income groups and their defining features can provide valuable insights for policymakers and individuals seeking to address income inequality and improve economic opportunities.\n",
    "\n",
    "Income inequality is a prevalent issue in the United States, with various factors contributing to the disparities in earnings among different individuals. In this data story, we aim to explore the Census Income dataset from 1990, which provides information on various demographic, educational, and occupational factors of individuals. Our goal is to analyze the relationships between these factors and the likelihood of earning more than $50K per year.\n",
    "\n",
    "To achieve this goal, we have structured our data story around five clear and explicit analysis questions. For each question, we describe the analysis process and present our findings using visualizations and statistical results. Our analysis will help shed light on the key factors influencing income levels and provide insights for policymakers and individuals seeking to address income inequality and improve economic opportunities in the United States."
   ]
  },
  {
   "cell_type": "markdown",
   "metadata": {},
   "source": [
    "## Question 1: Unlocking the Earning Potential: The Role of Education\n",
    "\n",
    "*Does higher education truly lead to higher incomes? Let's delve into the correlation between education levels and the likelihood of earning more than $50K per year.*\n",
    "\n",
    "To investigate the relationship between education levels and earning potential, we embarked on a deep analysis of the Census Income data. We grouped individuals according to their education levels and calculated the percentage of people within each group earning more than $50K per year. To make the data more comprehensible, we created a mapping of education levels in numerical order and sorted the income percentages accordingly. The results were then visualized in a bar chart.\n",
    "\n",
    "\n",
    "<p align=\"center\">\n",
    "  <img src=\"question 1.png\" alt=\"Question 1 Visualization\">\n",
    "</p>\n",
    "<center>Figure 1 Percentage of Individuals Earning >50K by Education Level</center>\n",
    "\n",
    "\n",
    "Our findings paint a clear picture: there is a strong correlation between education level and earning potential. As the level of education increases, so does the likelihood of earning more than $50K per year. This trend suggests that investing in higher education can significantly improve an individual's chances of earning a higher income.\n",
    "\n",
    "However, it's essential to consider other factors that may also influence income levels, such as occupation, work hours per week, and native country. For instance, our analysis revealed that individuals with a Doctorate or Professional school degree have a significantly higher likelihood of earning more than $50K per year (over 50%) compared to those with lower education levels. In contrast, individuals with less than a high school education have a much lower likelihood of earning more than $50K per year (less than 5%).\n",
    "\n",
    "Moreover, the bar chart demonstrates a clear trend where the percentage of individuals earning more than $50K per year generally increases as the education level increases. This suggests that pursuing higher education can have a considerable impact on an individual's income. However, it's crucial to weigh other factors, such as occupation and work hours per week, when making decisions about education and career paths.\n"
   ]
  },
  {
   "cell_type": "markdown",
   "metadata": {},
   "source": [
    "## Question 2: Climbing the Occupational Ladder: How Job Roles Impact Income Levels**\n",
    "\n",
    "*Are some jobs more financially rewarding than others? Let's identify specific occupations with a higher proportion of individuals earning more than $50K per year.*\n",
    "\n",
    "To answer this intriguing question, we delved into the Census Income data, grouping individuals by their occupation. We then calculated the percentage of individuals within each occupation earning more than $50K per year and visualized the results in a bar chart.\n",
    "\n",
    "\n",
    "<p align=\"center\">\n",
    "  <img src=\"question 2.png\" alt=\"Question 2 Visualization\">\n",
    "</p>\n",
    "<center>Figure 2 Percentage of Individuals Earning >50K by Occupation</center>\n",
    "\n",
    "Our meticulous analysis unveils a significant difference in income levels across different occupations. Some specific occupations, such as \"Exec-managerial\" and \"Prof-specialty\", boast a higher percentage of individuals earning more than $50K per year (over 30%). This suggests that individuals in these roles are more likely to earn higher incomes.\n",
    "\n",
    "On the other hand, occupations such as \"Handlers-cleaners,\" \"Priv-house-serv,\" and \"Farming-fishing\" have a lower percentage of individuals earning more than $50K per year (below 10%). Individuals in these roles are less likely to earn higher incomes.\n",
    "\n",
    "The chart also highlights that income levels can vary significantly across different occupations, indicating that an individual's occupation plays a crucial role in determining their income level. These findings can be invaluable for individuals contemplating various career paths and for policymakers striving to address income inequality across different sectors.\n",
    "\n"
   ]
  }
 ],
 "metadata": {
  "language_info": {
   "name": "python"
  }
 },
 "nbformat": 4,
 "nbformat_minor": 2
}
